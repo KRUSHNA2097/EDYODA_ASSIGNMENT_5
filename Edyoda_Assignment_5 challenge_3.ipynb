{
 "cells": [
  {
   "cell_type": "markdown",
   "id": "99162c95",
   "metadata": {},
   "source": [
    "In this challenge, you will implement a student class\n",
    "Problem statement\n",
    "Implement the complete Student class by completing the tasks below\n",
    "Task\n",
    "👉 Implement the following properties as private:\n",
    "name\n",
    "rollNumber\n",
    "👉 Include the following methods to get and set the private properties above:\n",
    "getName()\n",
    "setName()\n",
    "getRollNumber()\n",
    "setRollNumber()\n",
    "👉 Implement this class according to the rules of encapsulation.\n",
    "Input - Checking all the properties and methods\n",
    "Output - Expecting perfectly defined fields and getter/setters\n",
    "Note: Do not use initializers to initialize the properties. Use the set methods to do so.\n",
    "     If the setter is not defined properly, the corresponding getter will also generate an error even if the getter is defined      properly."
   ]
  },
  {
   "cell_type": "code",
   "execution_count": 1,
   "id": "c89864a9",
   "metadata": {},
   "outputs": [],
   "source": [
    "class Student:\n",
    "    def setName(self, name):\n",
    "        self.__name = name\n",
    "\n",
    "    def getName(self):\n",
    "        return self.__name\n",
    "\n",
    "    def setRollNumber(self, rollNumber):\n",
    "        self.__rollNumber = rollNumber\n",
    "\n",
    "    def getRollNumber(self):\n",
    "        return self.__rollNumber\n",
    "    \n",
    "    def setCourse(self,courseName):\n",
    "        self.__courseName = courseName\n",
    "        \n",
    "    def getCourse(self):\n",
    "        return self.__courseName"
   ]
  },
  {
   "cell_type": "code",
   "execution_count": 2,
   "id": "21a4e65d",
   "metadata": {},
   "outputs": [],
   "source": [
    "student =Student()"
   ]
  },
  {
   "cell_type": "code",
   "execution_count": 3,
   "id": "91fc5d22",
   "metadata": {},
   "outputs": [],
   "source": [
    "student.setName(\"Krushna Tupe\")\n",
    "student.setRollNumber(487)\n",
    "student.setCourse(\"Edyoda\")"
   ]
  },
  {
   "cell_type": "code",
   "execution_count": 4,
   "id": "fb2d7769",
   "metadata": {},
   "outputs": [
    {
     "name": "stdout",
     "output_type": "stream",
     "text": [
      "Name of the Student : Krushna Tupe\n",
      "Roll Number: 487\n",
      "Name of the Course : Edyoda\n"
     ]
    }
   ],
   "source": [
    "print(\"Name of the Student :\",student.getName())\n",
    "print(\"Roll Number:\", student.getRollNumber())\n",
    "print(\"Name of the Course :\",student.getCourse())"
   ]
  },
  {
   "cell_type": "code",
   "execution_count": null,
   "id": "9a819cd5",
   "metadata": {},
   "outputs": [],
   "source": []
  }
 ],
 "metadata": {
  "kernelspec": {
   "display_name": "Python 3 (ipykernel)",
   "language": "python",
   "name": "python3"
  },
  "language_info": {
   "codemirror_mode": {
    "name": "ipython",
    "version": 3
   },
   "file_extension": ".py",
   "mimetype": "text/x-python",
   "name": "python",
   "nbconvert_exporter": "python",
   "pygments_lexer": "ipython3",
   "version": "3.9.13"
  }
 },
 "nbformat": 4,
 "nbformat_minor": 5
}
