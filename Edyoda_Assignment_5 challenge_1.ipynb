{
 "cells": [
  {
   "cell_type": "markdown",
   "id": "95808aa4",
   "metadata": {},
   "source": [
    "Challenge 1: Square Numbers and Return Their Sum\n",
    "In this challenge, you need to implement a method that squares passing variables and returns their sum.\n",
    "\n",
    "Problem statement: Implement a class Point that has three properties and a method. All these attributes (properties and methods) should be public. This problem can be broken down into two tasks:\n",
    "\n",
    "Task 1: 👉 Implement a constructor to initialize the values of three properties: x, y, and z.\n",
    "Task 2: 👉 Implement a method, sqSum(), in the Point class which squares x, y, and z and returns their sum.\n",
    "Sample properties 1, 3, 5\n",
    "\n",
    "Sample method output 35"
   ]
  },
  {
   "cell_type": "code",
   "execution_count": 1,
   "id": "52ca7cf8",
   "metadata": {},
   "outputs": [],
   "source": [
    "class Point:\n",
    "    def __init__(self,x,y,z):\n",
    "        self.x=x\n",
    "        self.y=y\n",
    "        self.z=z\n",
    "    def sqSum(self):\n",
    "        return self.x**2 +self.y**2 +self.z**2"
   ]
  },
  {
   "cell_type": "code",
   "execution_count": 5,
   "id": "2af8b01e",
   "metadata": {},
   "outputs": [
    {
     "name": "stdout",
     "output_type": "stream",
     "text": [
      "Value of X: 1\n",
      "Value of Y: 3\n",
      "Value of Z: 5\n"
     ]
    }
   ],
   "source": [
    "x_value = int(input(\"Value of X: \"))\n",
    "y_value = int(input(\"Value of Y: \"))\n",
    "z_value = int(input(\"Value of Z: \"))"
   ]
  },
  {
   "cell_type": "code",
   "execution_count": 6,
   "id": "0278f393",
   "metadata": {},
   "outputs": [],
   "source": [
    "point = Point(x_value,y_value,z_value)\n"
   ]
  },
  {
   "cell_type": "code",
   "execution_count": 7,
   "id": "f203ef75",
   "metadata": {},
   "outputs": [
    {
     "name": "stdout",
     "output_type": "stream",
     "text": [
      "35\n"
     ]
    }
   ],
   "source": [
    "result = point.sqSum()\n",
    "print(result)"
   ]
  },
  {
   "cell_type": "code",
   "execution_count": null,
   "id": "9c0c7933",
   "metadata": {},
   "outputs": [],
   "source": []
  }
 ],
 "metadata": {
  "kernelspec": {
   "display_name": "Python 3 (ipykernel)",
   "language": "python",
   "name": "python3"
  },
  "language_info": {
   "codemirror_mode": {
    "name": "ipython",
    "version": 3
   },
   "file_extension": ".py",
   "mimetype": "text/x-python",
   "name": "python",
   "nbconvert_exporter": "python",
   "pygments_lexer": "ipython3",
   "version": "3.9.13"
  }
 },
 "nbformat": 4,
 "nbformat_minor": 5
}
